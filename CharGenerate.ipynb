{
 "cells": [
  {
   "cell_type": "markdown",
   "metadata": {
    "id": "NzaIOs1UKrTE"
   },
   "source": [
    "# 參考GitHub資料\n",
    "https://github.com/zcswdt/Color_OCR_image_generator"
   ]
  },
  {
   "cell_type": "code",
   "execution_count": 1,
   "metadata": {
    "colab": {
     "base_uri": "https://localhost:8080/"
    },
    "executionInfo": {
     "elapsed": 248,
     "status": "ok",
     "timestamp": 1630558952895,
     "user": {
      "displayName": "Guang-Chiun Huang",
      "photoUrl": "https://lh3.googleusercontent.com/a-/AOh14GiLNG4QHf0SxN50zSKESGEKYkQLfFpIGCepAkd3YA=s64",
      "userId": "12610864820393919237"
     },
     "user_tz": -480
    },
    "id": "yfcKxWVPrvDf",
    "outputId": "fa99d23f-25c4-45d9-e817-245787e73e3e"
   },
   "outputs": [
    {
     "name": "stdout",
     "output_type": "stream",
     "text": [
      "C:\\Users\\黃光群\\Desktop\\TextImage_Generator_YOLO\\OCR_Image_Generator\n"
     ]
    }
   ],
   "source": [
    "cd C:\\Users\\黃光群\\Desktop\\TextImage_Generator_YOLO\\OCR_Image_Generator"
   ]
  },
  {
   "cell_type": "code",
   "execution_count": 2,
   "metadata": {
    "id": "6HmFeP-Gr3tZ",
    "jupyter": {
     "outputs_hidden": true
    }
   },
   "outputs": [
    {
     "name": "stdout",
     "output_type": "stream",
     "text": [
      "Requirement already satisfied: opencv-python in d:\\anaconda\\lib\\site-packages (from -r requirements.txt (line 1)) (4.5.2.54)\n",
      "Requirement already satisfied: pillow in d:\\anaconda\\lib\\site-packages (from -r requirements.txt (line 2)) (8.2.0)\n",
      "Requirement already satisfied: scikit-learn in d:\\anaconda\\lib\\site-packages (from -r requirements.txt (line 3)) (0.24.1)\n",
      "Requirement already satisfied: PyYAML in d:\\anaconda\\lib\\site-packages (from -r requirements.txt (line 4)) (5.4.1)\n",
      "Requirement already satisfied: easydict in d:\\anaconda\\lib\\site-packages (from -r requirements.txt (line 5)) (1.9)\n",
      "Requirement already satisfied: matplotlib in d:\\anaconda\\lib\\site-packages (from -r requirements.txt (line 6)) (3.3.4)\n",
      "Requirement already satisfied: tqdm in d:\\anaconda\\lib\\site-packages (from -r requirements.txt (line 7)) (4.59.0)\n",
      "Requirement already satisfied: fontTools in d:\\anaconda\\lib\\site-packages (from -r requirements.txt (line 8)) (4.26.2)\n",
      "Requirement already satisfied: python-dateutil>=2.1 in d:\\anaconda\\lib\\site-packages (from matplotlib->-r requirements.txt (line 6)) (2.8.1)\n",
      "Requirement already satisfied: cycler>=0.10 in d:\\anaconda\\lib\\site-packages (from matplotlib->-r requirements.txt (line 6)) (0.10.0)\n",
      "Requirement already satisfied: pyparsing!=2.0.4,!=2.1.2,!=2.1.6,>=2.0.3 in d:\\anaconda\\lib\\site-packages (from matplotlib->-r requirements.txt (line 6)) (2.4.7)\n",
      "Requirement already satisfied: numpy>=1.15 in d:\\anaconda\\lib\\site-packages (from matplotlib->-r requirements.txt (line 6)) (1.20.1)\n",
      "Requirement already satisfied: kiwisolver>=1.0.1 in d:\\anaconda\\lib\\site-packages (from matplotlib->-r requirements.txt (line 6)) (1.3.1)\n",
      "Requirement already satisfied: six in d:\\anaconda\\lib\\site-packages (from cycler>=0.10->matplotlib->-r requirements.txt (line 6)) (1.16.0)\n",
      "Requirement already satisfied: threadpoolctl>=2.0.0 in d:\\anaconda\\lib\\site-packages (from scikit-learn->-r requirements.txt (line 3)) (2.1.0)\n",
      "Requirement already satisfied: scipy>=0.19.1 in d:\\anaconda\\lib\\site-packages (from scikit-learn->-r requirements.txt (line 3)) (1.6.2)\n",
      "Requirement already satisfied: joblib>=0.11 in d:\\anaconda\\lib\\site-packages (from scikit-learn->-r requirements.txt (line 3)) (1.0.1)\n"
     ]
    }
   ],
   "source": [
    "!python -m pip install -r requirements.txt"
   ]
  },
  {
   "cell_type": "markdown",
   "metadata": {
    "id": "gf4aY2ySDfMP"
   },
   "source": [
    "## 讀取字典"
   ]
  },
  {
   "cell_type": "code",
   "execution_count": 2,
   "metadata": {},
   "outputs": [
    {
     "name": "stdout",
     "output_type": "stream",
     "text": [
      "C:\\Users\\黃光群\\Desktop\\train word data\\OCR_generate\\OCR_Image_Generator\n"
     ]
    }
   ],
   "source": [
    "cd C:\\Users\\黃光群\\Desktop\\train word data\\OCR_generate\\OCR_Image_Generator"
   ]
  },
  {
   "cell_type": "markdown",
   "metadata": {},
   "source": [
    "## 讀取常用字字典"
   ]
  },
  {
   "cell_type": "code",
   "execution_count": 3,
   "metadata": {},
   "outputs": [],
   "source": [
    "char_frequently_list = open('chars_frequently.txt', 'r', encoding='utf-8').read().split('\\n')"
   ]
  },
  {
   "cell_type": "markdown",
   "metadata": {},
   "source": [
    "取前N筆"
   ]
  },
  {
   "cell_type": "markdown",
   "metadata": {},
   "source": [
    "## 讀取訓練資料字典"
   ]
  },
  {
   "cell_type": "code",
   "execution_count": 4,
   "metadata": {},
   "outputs": [],
   "source": [
    "char_train_list = open('char_train.txt', 'r', encoding='utf-8').read().split('\\n')"
   ]
  },
  {
   "cell_type": "markdown",
   "metadata": {},
   "source": [
    "取前N筆"
   ]
  },
  {
   "cell_type": "markdown",
   "metadata": {},
   "source": [
    "## 按照順序判斷哪些字在字頻表 (用set可能會有無序問題)"
   ]
  },
  {
   "cell_type": "code",
   "execution_count": 9,
   "metadata": {},
   "outputs": [],
   "source": [
    "intersection = []\n",
    "for word in char_train_list:\n",
    "    if word in char_frequently_list:\n",
    "        intersection.append(word)\n",
    "len(intersection)\n",
    "intersection = intersection[:50]   \n",
    "#intersection"
   ]
  },
  {
   "cell_type": "markdown",
   "metadata": {},
   "source": [
    "## 建立字典"
   ]
  },
  {
   "cell_type": "code",
   "execution_count": 10,
   "metadata": {},
   "outputs": [],
   "source": [
    "with open('GenerateChar.txt', 'w', encoding = 'utf-8') as f:\n",
    "    for i in range(len(intersection)):\n",
    "        f.write(intersection[i])\n",
    "        f.write('\\n')"
   ]
  },
  {
   "cell_type": "markdown",
   "metadata": {},
   "source": [
    "## 建立要產出的字串"
   ]
  },
  {
   "cell_type": "code",
   "execution_count": 2,
   "metadata": {},
   "outputs": [
    {
     "name": "stdout",
     "output_type": "stream",
     "text": [
      "C:\\Users\\黃光群\\Desktop\\TextImage_Generator_YOLO\\OCR_Image_Generator\\corpus\n"
     ]
    }
   ],
   "source": [
    "cd C:\\Users\\黃光群\\Desktop\\TextImage_Generator_YOLO\\OCR_Image_Generator\\corpus\\"
   ]
  },
  {
   "cell_type": "code",
   "execution_count": 13,
   "metadata": {},
   "outputs": [],
   "source": [
    "with open('GenerateString.txt', 'w', encoding='utf-8') as f:\n",
    "    for i in range(len(intersection)):\n",
    "        if i == 0:\n",
    "            f.write(intersection[i])\n",
    "        elif i % 5 != 0:\n",
    "            f.write(intersection[i])\n",
    "        else:\n",
    "            f.write('\\n')\n",
    "            f.write(intersection[i])"
   ]
  },
  {
   "cell_type": "markdown",
   "metadata": {
    "id": "LFGobxoCyMXm"
   },
   "source": [
    "## 產生圖片\n",
    "\n",
    "常用指令 :   \n",
    "--blur : Apply gauss blur to the generated image.  \n",
    "--prydown : Blurred image, simulating the effect of enlargement of small pictures.  \n",
    "--lr_motion : Apply left and right motion blur.  \n",
    "--ud_motion : Apply up and down motion blur. \n",
    "\n",
    "\n",
    "\n",
    "\n",
    "\n",
    "--yolo_mode : 開啟YOLO輸出模式\n",
    "\n",
    "--gray_image: 是否產出灰階圖\n",
    "\n",
    "--lr_motion_probability: 產生左右晃動圖機率 (預設 : 0.2)\n",
    "\n",
    "--up_motion_probability:產生上下晃動圖機率 (預設 : 0.1)\n",
    "\n",
    "--outlineword_probability : 產生有框線文字的機率 (預設 : 0.1)\n",
    "\n",
    "--resizeWH_probability : 沿單邊縮放機率 (預設 : 0.2)"
   ]
  },
  {
   "cell_type": "code",
   "execution_count": 2,
   "metadata": {},
   "outputs": [
    {
     "name": "stdout",
     "output_type": "stream",
     "text": [
      "C:\\Users\\黃光群\\Desktop\\TextImage_Generator_YOLO\\OCR_Image_Generator\n"
     ]
    }
   ],
   "source": [
    "cd C:\\Users\\黃光群\\Desktop\\TextImage_Generator_YOLO\\OCR_Image_Generator"
   ]
  },
  {
   "cell_type": "code",
   "execution_count": 9,
   "metadata": {
    "colab": {
     "base_uri": "https://localhost:8080/"
    },
    "executionInfo": {
     "elapsed": 15654,
     "status": "ok",
     "timestamp": 1630563556366,
     "user": {
      "displayName": "Guang-Chiun Huang",
      "photoUrl": "https://lh3.googleusercontent.com/a-/AOh14GiLNG4QHf0SxN50zSKESGEKYkQLfFpIGCepAkd3YA=s64",
      "userId": "12610864820393919237"
     },
     "user_tz": -480
    },
    "id": "hhB9RT0TGmc6",
    "jupyter": {
     "outputs_hidden": true
    },
    "outputId": "14aee95d-d38c-41d5-ac20-61052ec917cb"
   },
   "outputs": [
    {
     "name": "stdout",
     "output_type": "stream",
     "text": [
      "color_lib <__main__.FontColor object at 0x000001FD69455A90>\n",
      "Load font(./fonts/chinse_jian\\源泉圓體L.ttf) supported chars(50) from cache\n",
      "Load font(./fonts/chinse_jian\\源泉圓體M.ttf) supported chars(50) from cache\n",
      "Load font(./fonts/chinse_jian\\華康POP2體W9&W9(P).ttf) supported chars(50) from cache\n",
      "Load font(./fonts/chinse_jian\\華康唐風隸W5&W5(P).ttf) supported chars(50) from cache\n",
      "Load font(./fonts/chinse_jian\\華康墨字體.ttf) supported chars(50) from cache\n",
      "Load font(./fonts/chinse_jian\\華康少女文字W3&W3(P).ttf) supported chars(50) from cache\n",
      "Load font(./fonts/chinse_jian\\華康布丁體W7&W7(P).ttf) supported chars(50) from cache\n",
      "Load font(./fonts/chinse_jian\\華康楷書體W3.ttf) supported chars(50) from cache\n",
      "Load font(./fonts/chinse_jian\\華康楷書體W7.ttf) supported chars(50) from cache\n",
      "Load font(./fonts/chinse_jian\\華康流風體W3.ttf) supported chars(50) from cache\n",
      "Load font(./fonts/chinse_jian\\華康秀風體W3.ttf) supported chars(50) from cache\n",
      "Load font(./fonts/chinse_jian\\華康童童體.ttf) supported chars(50) from cache\n",
      "Load font(./fonts/chinse_jian\\華康竹風體W4.ttf) supported chars(50) from cache\n",
      "Load font(./fonts/chinse_jian\\華康行楷體W5&W5(P).ttf) supported chars(50) from cache\n",
      "Load font(./fonts/chinse_jian\\華康采風體W3.ttf) supported chars(50) from cache\n",
      "Load font(./fonts/chinse_jian\\華康鋼筆體W2.ttf) supported chars(50) from cache\n",
      "Load font(./fonts/chinse_jian\\華康龍門石碑.ttf) supported chars(50) from cache\n",
      "start generating...\n",
      "img_n 1\n",
      "cf.random_offset True\n",
      "gen_img2 <PIL.Image.Image image mode=RGB size=405x76 at 0x1FD6984EB50>\n",
      "gennerating:-------1.jpg\n",
      "img_n 2\n",
      "cf.random_offset True\n",
      "gen_img2 <PIL.Image.Image image mode=RGB size=860x151 at 0x1FD69834AF0>\n",
      "gennerating:-------2.jpg\n",
      "img_n 3\n",
      "cf.random_offset True\n",
      "gen_img2 <PIL.Image.Image image mode=RGB size=577x113 at 0x1FD6984ED90>\n",
      "gennerating:-------3.jpg\n",
      "img_n 4\n",
      "cf.random_offset True\n",
      "gen_img2 <PIL.Image.Image image mode=RGB size=297x48 at 0x1FD6CA152B0>\n",
      "gennerating:-------4.jpg\n",
      "img_n 5\n",
      "cf.random_offset True\n",
      "gen_img2 <PIL.Image.Image image mode=RGB size=490x97 at 0x1FD6CA15640>\n",
      "gennerating:-------5.jpg\n",
      "img_n 6\n",
      "cf.random_offset True\n",
      "gen_img2 <PIL.Image.Image image mode=RGB size=271x50 at 0x1FD6CA15A60>\n",
      "gennerating:-------6.jpg\n",
      "img_n 7\n",
      "cf.random_offset True\n",
      "gen_img2 <PIL.Image.Image image mode=RGB size=325x62 at 0x1FD6CA15B50>\n",
      "gennerating:-------7.jpg\n",
      "img_n 8\n",
      "cf.random_offset True\n",
      "gen_img2 <PIL.Image.Image image mode=RGB size=543x96 at 0x1FD6CA15C70>\n",
      "gennerating:-------8.jpg\n",
      "img_n 9\n",
      "cf.random_offset True\n",
      "gen_img2 <PIL.Image.Image image mode=RGB size=379x67 at 0x1FD6CA15730>\n",
      "gennerating:-------9.jpg\n",
      "img_n 10\n",
      "cf.random_offset True\n",
      "gen_img2 <PIL.Image.Image image mode=RGB size=355x62 at 0x1FD6CA15E80>\n",
      "gennerating:-------10.jpg\n",
      "all_time 2.0780839920043945\n"
     ]
    },
    {
     "name": "stderr",
     "output_type": "stream",
     "text": [
      "OCR_image_generator.py:116: ConvergenceWarning: Number of distinct clusters (1) found smaller than n_clusters (8). Possibly due to duplicate points in X.\n",
      "  clf.fit(labs)\n",
      "OCR_image_generator.py:116: ConvergenceWarning: Number of distinct clusters (1) found smaller than n_clusters (8). Possibly due to duplicate points in X.\n",
      "  clf.fit(labs)\n",
      "OCR_image_generator.py:116: ConvergenceWarning: Number of distinct clusters (1) found smaller than n_clusters (8). Possibly due to duplicate points in X.\n",
      "  clf.fit(labs)\n"
     ]
    }
   ],
   "source": [
    "!python OCR_image_generator.py --yolo_mode --num_img=10 --outlineword_probability=0 --lr_motion_probability=0 --up_motion_probability=0 --chars_file=GenerateChar.txt --resizeWH_probability=1"
   ]
  }
 ],
 "metadata": {
  "colab": {
   "authorship_tag": "ABX9TyM7s/M4MjdnaQhqtGwu0pWN",
   "collapsed_sections": [],
   "name": "CharGenerate.ipynb",
   "provenance": []
  },
  "kernelspec": {
   "display_name": "Python 3",
   "language": "python",
   "name": "python3"
  },
  "language_info": {
   "codemirror_mode": {
    "name": "ipython",
    "version": 3
   },
   "file_extension": ".py",
   "mimetype": "text/x-python",
   "name": "python",
   "nbconvert_exporter": "python",
   "pygments_lexer": "ipython3",
   "version": "3.8.8"
  }
 },
 "nbformat": 4,
 "nbformat_minor": 4
}
